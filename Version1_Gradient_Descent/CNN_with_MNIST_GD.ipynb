{
 "cells": [
  {
   "cell_type": "markdown",
   "id": "proud-installation",
   "metadata": {},
   "source": [
    "## CNN with MNIST test dataset"
   ]
  },
  {
   "cell_type": "code",
   "execution_count": 1,
   "id": "catholic-trinidad",
   "metadata": {},
   "outputs": [
    {
     "data": {
      "text/plain": [
       "'2.4.0'"
      ]
     },
     "execution_count": 1,
     "metadata": {},
     "output_type": "execute_result"
    }
   ],
   "source": [
    "import tensorflow as tf\n",
    "from IPython.display import Markdown, display\n",
    "\n",
    "def printmd(string):\n",
    "    display(Markdown('# <span style=\"color:red\">'+string+'</span>'))\n",
    "\n",
    "\n",
    "tf.__version__"
   ]
  },
  {
   "cell_type": "markdown",
   "id": "dietary-taxation",
   "metadata": {},
   "source": [
    "## MNIST data process"
   ]
  },
  {
   "cell_type": "code",
   "execution_count": 2,
   "id": "weekly-praise",
   "metadata": {},
   "outputs": [],
   "source": [
    "mnist = tf.keras.datasets.mnist\n",
    "(x_train, y_train), (x_test, y_test) = mnist.load_data()"
   ]
  },
  {
   "cell_type": "code",
   "execution_count": 3,
   "id": "technological-manual",
   "metadata": {},
   "outputs": [],
   "source": [
    "# Data is 0~255 so we must normalize our data first\n",
    "x_train, x_test = x_train / 255.0, x_test / 255.0"
   ]
  },
  {
   "cell_type": "code",
   "execution_count": 4,
   "id": "operational-transfer",
   "metadata": {},
   "outputs": [
    {
     "data": {
      "text/plain": [
       "array([5, 0, 4, 1, 9], dtype=uint8)"
      ]
     },
     "execution_count": 4,
     "metadata": {},
     "output_type": "execute_result"
    }
   ],
   "source": [
    "y_train[0:5]"
   ]
  },
  {
   "cell_type": "code",
   "execution_count": 5,
   "id": "intended-enlargement",
   "metadata": {},
   "outputs": [
    {
     "name": "stdout",
     "output_type": "stream",
     "text": [
      "categorical labels\n",
      "[5 0 4 1 9]\n",
      "one hot encoded labels\n",
      "tf.Tensor(\n",
      "[[0. 0. 0. 0. 0. 1. 0. 0. 0. 0.]\n",
      " [1. 0. 0. 0. 0. 0. 0. 0. 0. 0.]\n",
      " [0. 0. 0. 0. 1. 0. 0. 0. 0. 0.]\n",
      " [0. 1. 0. 0. 0. 0. 0. 0. 0. 0.]\n",
      " [0. 0. 0. 0. 0. 0. 0. 0. 0. 1.]], shape=(5, 10), dtype=float32)\n"
     ]
    }
   ],
   "source": [
    "print(\"categorical labels\")\n",
    "print(y_train[0:5])\n",
    "\n",
    "# make labels one hot encoded\n",
    "y_train = tf.one_hot(y_train, 10)\n",
    "y_test = tf.one_hot(y_test, 10)\n",
    "\n",
    "print(\"one hot encoded labels\")\n",
    "print(y_train[0:5])"
   ]
  },
  {
   "cell_type": "code",
   "execution_count": 6,
   "id": "recreational-excerpt",
   "metadata": {},
   "outputs": [
    {
     "data": {
      "text/plain": [
       "10000"
      ]
     },
     "execution_count": 6,
     "metadata": {},
     "output_type": "execute_result"
    }
   ],
   "source": [
    "x_test.shape[0]"
   ]
  },
  {
   "cell_type": "code",
   "execution_count": 7,
   "id": "designed-knowing",
   "metadata": {},
   "outputs": [
    {
     "data": {
      "text/plain": [
       "60000"
      ]
     },
     "execution_count": 7,
     "metadata": {},
     "output_type": "execute_result"
    }
   ],
   "source": [
    "x_train.shape[0]"
   ]
  },
  {
   "cell_type": "code",
   "execution_count": 8,
   "id": "reported-template",
   "metadata": {},
   "outputs": [],
   "source": [
    "train_ds = tf.data.Dataset.from_tensor_slices((x_train, y_train)).batch(50)\n",
    "test_ds = tf.data.Dataset.from_tensor_slices((x_test, y_test)).batch(50)"
   ]
  },
  {
   "cell_type": "code",
   "execution_count": 9,
   "id": "appointed-update",
   "metadata": {},
   "outputs": [
    {
     "name": "stdout",
     "output_type": "stream",
     "text": [
      "(60000, 28, 28)\n",
      "(60000, 784)\n"
     ]
    }
   ],
   "source": [
    "from tensorflow.keras.layers import Flatten\n",
    "flatten = Flatten(dtype='float32')\n",
    "\n",
    "print(x_train.shape)\n",
    "print(flatten(x_train).shape)"
   ]
  },
  {
   "cell_type": "code",
   "execution_count": 10,
   "id": "alert-aggregate",
   "metadata": {},
   "outputs": [],
   "source": [
    "W = tf.Variable(tf.zeros([784, 10], tf.float32))\n",
    "b = tf.Variable(tf.zeros([10], tf.float32))"
   ]
  },
  {
   "cell_type": "code",
   "execution_count": 11,
   "id": "moral-cookbook",
   "metadata": {},
   "outputs": [],
   "source": [
    "def forward(x):\n",
    "    return tf.matmul(x, W) + b"
   ]
  },
  {
   "cell_type": "code",
   "execution_count": 12,
   "id": "engaged-harvest",
   "metadata": {},
   "outputs": [
    {
     "name": "stdout",
     "output_type": "stream",
     "text": [
      "softmax calculation\n",
      "[8.8075405e-01 4.8839214e-05 1.1919709e-01]\n",
      "verifying normalization\n",
      "tf.Tensor(0.99999994, shape=(), dtype=float32)\n",
      "finding vector with largest value (label assignment)\n",
      "category 0\n"
     ]
    }
   ],
   "source": [
    "# a sample softmax calculation on an input vector\n",
    "vector = [10, 0.2, 8]\n",
    "softmax = tf.nn.softmax(vector)\n",
    "print(\"softmax calculation\")\n",
    "print(softmax.numpy())\n",
    "print(\"verifying normalization\")\n",
    "print(tf.reduce_sum(softmax))\n",
    "print(\"finding vector with largest value (label assignment)\")\n",
    "print(\"category\", tf.argmax(softmax).numpy())"
   ]
  },
  {
   "cell_type": "code",
   "execution_count": 13,
   "id": "editorial-mentor",
   "metadata": {},
   "outputs": [],
   "source": [
    "def activate(x):\n",
    "    return tf.nn.softmax(forward(x))"
   ]
  },
  {
   "cell_type": "code",
   "execution_count": 14,
   "id": "adopted-original",
   "metadata": {},
   "outputs": [],
   "source": [
    "def model(x):\n",
    "    x = flatten(x)\n",
    "    return activate(x)"
   ]
  },
  {
   "cell_type": "code",
   "execution_count": 15,
   "id": "outstanding-drill",
   "metadata": {},
   "outputs": [
    {
     "data": {
      "text/plain": [
       "138155.11"
      ]
     },
     "execution_count": 15,
     "metadata": {},
     "output_type": "execute_result"
    }
   ],
   "source": [
    "def cross_entropy(y_label, y_pred):\n",
    "    return (-tf.reduce_sum(y_label * tf.math.log(y_pred + 1.e-10)))\n",
    "# addition of 1e-10 to prevent errors in zero calculations\n",
    "\n",
    "\n",
    "# current loss function for unoptimized model\n",
    "cross_entropy(y_train, model(x_train)).numpy()"
   ]
  },
  {
   "cell_type": "markdown",
   "id": "resistant-repository",
   "metadata": {},
   "source": [
    "## 1. Gradient Descent"
   ]
  },
  {
   "cell_type": "code",
   "execution_count": 16,
   "id": "killing-doctor",
   "metadata": {},
   "outputs": [],
   "source": [
    "optimizer = tf.keras.optimizers.SGD(learning_rate=0.25)"
   ]
  },
  {
   "cell_type": "code",
   "execution_count": 17,
   "id": "vital-template",
   "metadata": {},
   "outputs": [],
   "source": [
    "def train_step(x, y):\n",
    "    with tf.GradientTape() as tape:\n",
    "        current_loss = cross_entropy(y, model(x))\n",
    "\n",
    "        grads = tape.gradient(current_loss, [W, b])\n",
    "        optimizer.apply_gradients(zip(grads, [W, b]))\n",
    "    return current_loss.numpy()"
   ]
  },
  {
   "cell_type": "markdown",
   "id": "compound-idaho",
   "metadata": {},
   "source": [
    "## Training by Graident Descent"
   ]
  },
  {
   "cell_type": "code",
   "execution_count": 21,
   "id": "medieval-burden",
   "metadata": {},
   "outputs": [
    {
     "name": "stdout",
     "output_type": "stream",
     "text": [
      "epoch  1 batch 500 loss: 182.31589\n",
      "epoch  1 batch 1000 loss: 237.19542\n",
      "end of epoch  1 loss 217306.38 accuracy 0.8201333\n",
      "epoch  2 batch 500 loss: 206.9339\n",
      "epoch  2 batch 1000 loss: 219.18332\n",
      "end of epoch  2 loss 231224.31 accuracy 0.8100833\n",
      "epoch  3 batch 500 loss: 210.7546\n",
      "epoch  3 batch 1000 loss: 248.913\n",
      "end of epoch  3 loss 208950.2 accuracy 0.83105\n",
      "epoch  4 batch 500 loss: 165.24435\n",
      "epoch  4 batch 1000 loss: 207.55893\n",
      "end of epoch  4 loss 207672.92 accuracy 0.8330167\n",
      "epoch  5 batch 500 loss: 184.96556\n",
      "epoch  5 batch 1000 loss: 195.71907\n",
      "end of epoch  5 loss 204012.67 accuracy 0.83708334\n",
      "epoch  6 batch 500 loss: 155.63136\n",
      "epoch  6 batch 1000 loss: 174.49988\n",
      "end of epoch  6 loss 206519.06 accuracy 0.8361167\n",
      "epoch  7 batch 500 loss: 189.26016\n",
      "epoch  7 batch 1000 loss: 174.0267\n",
      "end of epoch  7 loss 207498.34 accuracy 0.8331\n",
      "epoch  8 batch 500 loss: 203.73929\n",
      "epoch  8 batch 1000 loss: 213.21356\n",
      "end of epoch  8 loss 205742.67 accuracy 0.83666664\n",
      "epoch  9 batch 500 loss: 186.01166\n",
      "epoch  9 batch 1000 loss: 161.42496\n",
      "end of epoch  9 loss 199139.38 accuracy 0.8430167\n",
      "epoch  10 batch 500 loss: 201.06728\n",
      "epoch  10 batch 1000 loss: 147.11029\n",
      "end of epoch  10 loss 202335.75 accuracy 0.8395333\n"
     ]
    }
   ],
   "source": [
    "# zeroing out weights in case you want to run this cell multiple times\n",
    "# Weight tensor\n",
    "W = tf.Variable(tf.zeros([784, 10],tf.float32))\n",
    "# Bias tensor\n",
    "b = tf.Variable(tf.zeros([10],tf.float32))\n",
    "\n",
    "loss_values=[]\n",
    "accuracies = []\n",
    "epochs = 10\n",
    "\n",
    "for i in range(epochs):\n",
    "    j=0\n",
    "    # each batch has 50 examples\n",
    "    for x_train_batch, y_train_batch in train_ds:\n",
    "        j+=1\n",
    "        current_loss = train_step(x_train_batch, y_train_batch)\n",
    "        if j%500==0: #reporting intermittent batch statistics\n",
    "            print(\"epoch \", str(i+1), \"batch\", str(j), \"loss:\", str(current_loss) ) \n",
    "    \n",
    "    # collecting statistics at each epoch...loss function and accuracy\n",
    "    #  loss function\n",
    "    current_loss = cross_entropy( y_train, model( x_train )).numpy()\n",
    "    loss_values.append(current_loss)\n",
    "    correct_prediction = tf.equal(tf.argmax(model(x_train), axis=1),\n",
    "                                  tf.argmax(y_train, axis=1))\n",
    "    #  accuracy\n",
    "    accuracy = tf.reduce_mean(tf.cast(correct_prediction, tf.float32)).numpy()\n",
    "    accuracies.append(accuracy)\n",
    "    print(\"end of epoch \", str(i+1), \"loss\", str(current_loss), \"accuracy\", str(accuracy) ) "
   ]
  },
  {
   "cell_type": "code",
   "execution_count": 22,
   "id": "mobile-algorithm",
   "metadata": {},
   "outputs": [
    {
     "name": "stdout",
     "output_type": "stream",
     "text": [
      "training accuracy 0.8395333\n",
      "test accuracy 0.8348\n"
     ]
    }
   ],
   "source": [
    "correct_prediction_train = tf.equal(tf.argmax(model(x_train), axis=1),tf.argmax(y_train,axis=1))\n",
    "accuracy_train = tf.reduce_mean(tf.cast(correct_prediction_train, tf.float32)).numpy()\n",
    "\n",
    "correct_prediction_test = tf.equal(tf.argmax(model(x_test), axis=1),tf.argmax(y_test, axis=1))\n",
    "accuracy_test = tf.reduce_mean(tf.cast(correct_prediction_test, tf.float32)).numpy()\n",
    "print(\"training accuracy\", accuracy_train)\n",
    "print(\"test accuracy\", accuracy_test)"
   ]
  },
  {
   "cell_type": "code",
   "execution_count": 29,
   "id": "molecular-consensus",
   "metadata": {},
   "outputs": [
    {
     "data": {
      "text/plain": [
       "Text(0, 0.5, 'loss')"
      ]
     },
     "execution_count": 29,
     "metadata": {},
     "output_type": "execute_result"
    },
    {
     "data": {
      "image/png": "[encoded data removed]",
      "text/plain": [
       "<Figure size 720x432 with 1 Axes>"
      ]
     },
     "metadata": {
      "needs_background": "light"
     },
     "output_type": "display_data"
    }
   ],
   "source": [
    "import matplotlib.pyplot as plt\n",
    "\n",
    "plt.rcParams['figure.figsize'] = (10,6)\n",
    "plt.plot(loss_values,'-ro')\n",
    "plt.title(\"loss per epoch\")\n",
    "plt.xlabel(\"epoch\")\n",
    "plt.ylabel(\"loss\")"
   ]
  },
  {
   "cell_type": "code",
   "execution_count": 30,
   "id": "powerful-toyota",
   "metadata": {},
   "outputs": [
    {
     "data": {
      "text/plain": [
       "Text(0, 0.5, 'accuracy')"
      ]
     },
     "execution_count": 30,
     "metadata": {},
     "output_type": "execute_result"
    },
    {
     "data": {
      "image/png": "[encoded data removed]",
      "text/plain": [
       "<Figure size 720x432 with 1 Axes>"
      ]
     },
     "metadata": {
      "needs_background": "light"
     },
     "output_type": "display_data"
    }
   ],
   "source": [
    "plt.plot(accuracies,'-ro')\n",
    "plt.title(\"accuracy per epoch\")\n",
    "plt.xlabel(\"epoch\")\n",
    "plt.ylabel(\"accuracy\")"
   ]
  },
  {
   "cell_type": "markdown",
   "id": "coupled-folks",
   "metadata": {},
   "source": [
    "## Conclusion"
   ]
  },
  {
   "cell_type": "markdown",
   "id": "wicked-duration",
   "metadata": {},
   "source": [
    "### Gradient Descent is not enough for MNIST image recognition\n",
    "\n",
    "<h4>Several options as follow:</h4>\n",
    "<ul>\n",
    "    <li>Regularization of Neural Networks using DropConnect</li>\n",
    "    <li>Multi-column Deep Neural Networks for Image Classification</li> \n",
    "    <li>APAC: Augmented Pattern Classification with Neural Networks</li>\n",
    "    <li>Simple Deep Neural Network with Dropout</li>\n",
    "</ul>\n",
    "<h4>In the next part we are going to explore the option:</h4>\n",
    "<ul>\n",
    "    <li>Simple Deep Neural Network with Dropout (more than 1 hidden layer)</li>\n",
    "</ul> "
   ]
  }
 ],
 "metadata": {
  "kernelspec": {
   "display_name": "tf2.4",
   "language": "python",
   "name": "tf2.4"
  },
  "language_info": {
   "codemirror_mode": {
    "name": "ipython",
    "version": 3
   },
   "file_extension": ".py",
   "mimetype": "text/x-python",
   "name": "python",
   "nbconvert_exporter": "python",
   "pygments_lexer": "ipython3",
   "version": "3.6.13"
  }
 },
 "nbformat": 4,
 "nbformat_minor": 5
}
